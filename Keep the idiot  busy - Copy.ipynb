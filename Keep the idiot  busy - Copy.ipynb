{
 "cells": [
  {
   "cell_type": "code",
   "execution_count": 1,
   "id": "efba717a",
   "metadata": {},
   "outputs": [],
   "source": [
    "# At first we will ask the idiot if he wants to play this game or not. If he agrees, lets proceed.\n",
    "# Here we will give the idiot ten questions.\n",
    "# The idiot will have 10 seconds to answer each question. \n",
    "# The idiot can try maximum 3 times within these 10 seconds to answer each question.\n"
   ]
  },
  {
   "cell_type": "code",
   "execution_count": 2,
   "id": "38e64796",
   "metadata": {},
   "outputs": [],
   "source": [
    "#Importing module\n",
    "import pyinputplus as pyip\n",
    "import sys"
   ]
  },
  {
   "cell_type": "code",
   "execution_count": 3,
   "id": "1c2e9f65",
   "metadata": {},
   "outputs": [
    {
     "name": "stdout",
     "output_type": "stream",
     "text": [
      "Do you want to keep an idiot busy for hours?\n",
      "yes\n",
      "Yeah. Lets go baby.\n"
     ]
    }
   ],
   "source": [
    "#Getting response\n",
    "prompt = 'Do you want to keep an idiot busy for hours?\\n'\n",
    "while True:\n",
    "    response = pyip.inputYesNo(prompt)\n",
    "    if response =='no':\n",
    "        print('Thank you. Have a nice day.')\n",
    "        sys.exit()\n",
    "    elif response == 'yes':\n",
    "        print('Yeah. Lets go baby.')\n",
    "        break\n",
    "    \n",
    "       \n",
    "        "
   ]
  },
  {
   "cell_type": "code",
   "execution_count": 4,
   "id": "bb968dbc",
   "metadata": {},
   "outputs": [],
   "source": [
    "#Now we will create multiplication quizes to keep the idiot busy.\n",
    "#For that purpose, I need to import two more modules\n",
    "import random, time"
   ]
  },
  {
   "cell_type": "code",
   "execution_count": 5,
   "id": "47e24e83",
   "metadata": {},
   "outputs": [],
   "source": [
    "#Creating variables to keep track of questions and answers\n",
    "numberOfQuestions = 10\n",
    "crrectAnswers = 0"
   ]
  },
  {
   "cell_type": "code",
   "execution_count": 6,
   "id": "895872f7",
   "metadata": {},
   "outputs": [
    {
     "name": "stdout",
     "output_type": "stream",
     "text": [
      "#0: 0 x 0 = 0\n",
      "Correct!\n",
      "#1: 9 x 8 = 72\n",
      "Correct!\n",
      "#2: 1 x 8 = 8\n",
      "Out of time!\n",
      "#3: 2 x 1 = 67\n",
      "Incorrect!\n",
      "#3: 2 x 1 = 67\n",
      "Incorrect!\n",
      "#3: 2 x 1 = 67\n",
      "Incorrect!\n",
      "Out of time!\n",
      "#4: 9 x 0 = 0\n",
      "Correct!\n",
      "#5: 7 x 8 = 56\n",
      "Correct!\n",
      "#6: 0 x 1 = 0\n",
      "Correct!\n",
      "#7: 4 x 4 = 16\n",
      "Correct!\n",
      "#8: 8 x 9 = 45\n",
      "Incorrect!\n",
      "#8: 8 x 9 = 4\n",
      "Incorrect!\n",
      "#8: 8 x 9 = 64\n",
      "Incorrect!\n",
      "Out of tries\n",
      "#9: 5 x 1 = 5\n",
      "Correct!\n"
     ]
    }
   ],
   "source": [
    "# Now we will create a for loop for the program to pick two single-digit numbers to multiply. \n",
    "# The numbers will be picked randomly\n",
    "for questionNumber in range(numberOfQuestions):\n",
    "    num1 = random.randint(0,9)\n",
    "    num2 = random.randint(0,9)\n",
    "    \n",
    "    prompt = '#%s: %s x %s = ' % (questionNumber, num1, num2)\n",
    "    try:\n",
    "        #Right answers are handles by allowRegexes\n",
    "        #Wrong answers are handles by blockRegexes, with a custom message.\n",
    "        pyip.inputStr(prompt, allowRegexes=['^%s$'%(num1 * num2)],\n",
    "                     blockRegexes = [('.*','Incorrect!')],\n",
    "                     timeout=8, limit=3)\n",
    "    except pyip.TimeoutException:\n",
    "        print('Out of time!')\n",
    "    except pyip.RetryLimitException:\n",
    "        print('Out of tries')\n",
    "    else:\n",
    "        #This block runs if no exceptions were raised in the try block\n",
    "        print('Correct!')\n",
    "        #If the answer is correct, we will display \"Correct\" for three second before moving into next question.\n",
    "        time.sleep(3)\n",
    "        crrectAnswers+=1"
   ]
  },
  {
   "cell_type": "code",
   "execution_count": 7,
   "id": "d7b46191",
   "metadata": {},
   "outputs": [
    {
     "name": "stdout",
     "output_type": "stream",
     "text": [
      "Score: 7 / 10\n"
     ]
    }
   ],
   "source": [
    "#Let's place a 5 second pause at the end of the for loop to give the user time to read it.\n",
    "time.sleep(5)\n",
    "print('Score: %s / %s' % (crrectAnswers, numberOfQuestions))"
   ]
  },
  {
   "cell_type": "code",
   "execution_count": 8,
   "id": "fd663d08",
   "metadata": {},
   "outputs": [
    {
     "name": "stdout",
     "output_type": "stream",
     "text": [
      "You failed the test you dumbass.\n"
     ]
    }
   ],
   "source": [
    "if (crrectAnswers/numberOfQuestions)*100 >=80:\n",
    "    print('Congratulations!! You passed the test.')\n",
    "else:\n",
    "    print('You failed the test you dumbass.')"
   ]
  }
 ],
 "metadata": {
  "kernelspec": {
   "display_name": "Python 3 (ipykernel)",
   "language": "python",
   "name": "python3"
  },
  "language_info": {
   "codemirror_mode": {
    "name": "ipython",
    "version": 3
   },
   "file_extension": ".py",
   "mimetype": "text/x-python",
   "name": "python",
   "nbconvert_exporter": "python",
   "pygments_lexer": "ipython3",
   "version": "3.9.10"
  }
 },
 "nbformat": 4,
 "nbformat_minor": 5
}
